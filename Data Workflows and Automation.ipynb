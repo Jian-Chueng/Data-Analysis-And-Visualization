{
 "cells": [
  {
   "cell_type": "code",
   "execution_count": 11,
   "metadata": {},
   "outputs": [
    {
     "name": "stdout",
     "output_type": "stream",
     "text": [
      "['lion', 'tiger', 'crocodile', 'vulture', 'hippo']\n",
      "lion\n",
      "tiger\n",
      "crocodile\n",
      "vulture\n",
      "hippo\n"
     ]
    }
   ],
   "source": [
    "# For loops\n",
    "\n",
    "animals = ['lion', 'tiger', 'crocodile', 'vulture', 'hippo']\n",
    "print(animals)\n",
    "\n",
    "for animal in animals:\n",
    "    print(animal)"
   ]
  },
  {
   "cell_type": "code",
   "execution_count": 12,
   "metadata": {},
   "outputs": [
    {
     "name": "stdout",
     "output_type": "stream",
     "text": [
      "The loop variable is now: hippo\n"
     ]
    }
   ],
   "source": [
    "for creature in animals:\n",
    "    pass\n",
    "print('The loop variable is now: ' + creature)"
   ]
  },
  {
   "cell_type": "code",
   "execution_count": 21,
   "metadata": {},
   "outputs": [
    {
     "name": "stdout",
     "output_type": "stream",
     "text": [
      "lion, tiger, crocodile, vulture, hippo, "
     ]
    }
   ],
   "source": [
    "# Challenge - Loops\n",
    "animals = ['lion', 'tiger', 'crocodile', 'vulture', 'hippo']\n",
    "for animal in animals:\n",
    "    print(animal+',', end=' ')"
   ]
  },
  {
   "cell_type": "code",
   "execution_count": 22,
   "metadata": {},
   "outputs": [
    {
     "name": "stdout",
     "output_type": "stream",
     "text": [
      "lion, tiger, crocodile, vulture, hippo\n"
     ]
    }
   ],
   "source": [
    "# better way: .join()\n",
    "print(', '.join(animals))"
   ]
  },
  {
   "cell_type": "code",
   "execution_count": 28,
   "metadata": {},
   "outputs": [
    {
     "data": {
      "text/plain": [
       "['surveys2001.csv',\n",
       " 'surveys2002.csv',\n",
       " 'speciesSubset.csv',\n",
       " 'bouldercreek_09_2013.txt',\n",
       " 'species.csv',\n",
       " '.DS_Store',\n",
       " 'yearly_files',\n",
       " 'surveys.csv',\n",
       " 'out.csv',\n",
       " 'portal_mammals.sqlite',\n",
       " 'README.txt',\n",
       " 'surveys_complete.csv',\n",
       " 'plots.csv']"
      ]
     },
     "execution_count": 28,
     "metadata": {},
     "output_type": "execute_result"
    }
   ],
   "source": [
    "# Automating data processing using For Loops\n",
    "\n",
    "import os\n",
    "\n",
    "os.mkdir('data/yearly_files')\n",
    "# os.makedirs: makes all intermediate-level directories\n",
    "os.listdir('data')"
   ]
  },
  {
   "cell_type": "code",
   "execution_count": 64,
   "metadata": {},
   "outputs": [],
   "source": [
    "import pandas as pd\n",
    "\n",
    "# load data\n",
    "surveys_df = pd.read_csv('data/surveys.csv')\n",
    "# select only data in 2002\n",
    "survey2002 = surveys_df[surveys_df.year==2002]\n",
    "survey2002\n",
    "# create a CSV file\n",
    "survey2002.to_csv('data/yearly_files/survey2002.csv')"
   ]
  },
  {
   "cell_type": "code",
   "execution_count": 65,
   "metadata": {},
   "outputs": [
    {
     "name": "stdout",
     "output_type": "stream",
     "text": [
      "data/yearly_files/survey1977.csv\n",
      "data/yearly_files/survey1978.csv\n",
      "data/yearly_files/survey1979.csv\n",
      "data/yearly_files/survey1980.csv\n",
      "data/yearly_files/survey1981.csv\n",
      "data/yearly_files/survey1982.csv\n",
      "data/yearly_files/survey1983.csv\n",
      "data/yearly_files/survey1984.csv\n",
      "data/yearly_files/survey1985.csv\n",
      "data/yearly_files/survey1986.csv\n",
      "data/yearly_files/survey1987.csv\n",
      "data/yearly_files/survey1988.csv\n",
      "data/yearly_files/survey1989.csv\n",
      "data/yearly_files/survey1990.csv\n",
      "data/yearly_files/survey1991.csv\n",
      "data/yearly_files/survey1992.csv\n",
      "data/yearly_files/survey1993.csv\n",
      "data/yearly_files/survey1994.csv\n",
      "data/yearly_files/survey1995.csv\n",
      "data/yearly_files/survey1996.csv\n",
      "data/yearly_files/survey1997.csv\n",
      "data/yearly_files/survey1998.csv\n",
      "data/yearly_files/survey1999.csv\n",
      "data/yearly_files/survey2000.csv\n",
      "data/yearly_files/survey2001.csv\n",
      "data/yearly_files/survey2002.csv\n"
     ]
    }
   ],
   "source": [
    "# automatic way to create yearly surveys\n",
    "\n",
    "years = surveys_df['year'].unique()\n",
    "\n",
    "for year in years:\n",
    "    survey_year = surveys_df[surveys_df.year==year]\n",
    "    file = 'data/yearly_files/survey'+str(year)+'.csv'\n",
    "    print(file)\n",
    "    survey_year.to_csv(file)\n",
    "  "
   ]
  },
  {
   "cell_type": "code",
   "execution_count": 70,
   "metadata": {},
   "outputs": [],
   "source": [
    "# Challenge - Modifying loops\n",
    "\n",
    "for year in years:\n",
    "    survey_year_dropna = surveys_df[surveys_df.year==year].dropna()\n",
    "    "
   ]
  },
  {
   "cell_type": "code",
   "execution_count": 62,
   "metadata": {},
   "outputs": [
    {
     "name": "stdout",
     "output_type": "stream",
     "text": [
      "1977\n",
      "1982\n",
      "1987\n",
      "1992\n",
      "1997\n"
     ]
    },
    {
     "data": {
      "text/html": [
       "<div>\n",
       "<style scoped>\n",
       "    .dataframe tbody tr th:only-of-type {\n",
       "        vertical-align: middle;\n",
       "    }\n",
       "\n",
       "    .dataframe tbody tr th {\n",
       "        vertical-align: top;\n",
       "    }\n",
       "\n",
       "    .dataframe thead th {\n",
       "        text-align: right;\n",
       "    }\n",
       "</style>\n",
       "<table border=\"1\" class=\"dataframe\">\n",
       "  <thead>\n",
       "    <tr style=\"text-align: right;\">\n",
       "      <th></th>\n",
       "      <th>record_id</th>\n",
       "      <th>month</th>\n",
       "      <th>day</th>\n",
       "      <th>year</th>\n",
       "      <th>plot_id</th>\n",
       "      <th>species_id</th>\n",
       "      <th>sex</th>\n",
       "      <th>hindfoot_length</th>\n",
       "      <th>weight</th>\n",
       "    </tr>\n",
       "  </thead>\n",
       "  <tbody>\n",
       "    <tr>\n",
       "      <th>24920</th>\n",
       "      <td>24921</td>\n",
       "      <td>2</td>\n",
       "      <td>8</td>\n",
       "      <td>1997</td>\n",
       "      <td>2</td>\n",
       "      <td>PB</td>\n",
       "      <td>M</td>\n",
       "      <td>22.0</td>\n",
       "      <td>32.0</td>\n",
       "    </tr>\n",
       "    <tr>\n",
       "      <th>24921</th>\n",
       "      <td>24922</td>\n",
       "      <td>2</td>\n",
       "      <td>8</td>\n",
       "      <td>1997</td>\n",
       "      <td>21</td>\n",
       "      <td>PF</td>\n",
       "      <td>M</td>\n",
       "      <td>16.0</td>\n",
       "      <td>8.0</td>\n",
       "    </tr>\n",
       "    <tr>\n",
       "      <th>24922</th>\n",
       "      <td>24923</td>\n",
       "      <td>2</td>\n",
       "      <td>8</td>\n",
       "      <td>1997</td>\n",
       "      <td>1</td>\n",
       "      <td>OT</td>\n",
       "      <td>M</td>\n",
       "      <td>19.0</td>\n",
       "      <td>22.0</td>\n",
       "    </tr>\n",
       "    <tr>\n",
       "      <th>24923</th>\n",
       "      <td>24924</td>\n",
       "      <td>2</td>\n",
       "      <td>8</td>\n",
       "      <td>1997</td>\n",
       "      <td>20</td>\n",
       "      <td>OT</td>\n",
       "      <td>F</td>\n",
       "      <td>20.0</td>\n",
       "      <td>19.0</td>\n",
       "    </tr>\n",
       "    <tr>\n",
       "      <th>24924</th>\n",
       "      <td>24925</td>\n",
       "      <td>2</td>\n",
       "      <td>8</td>\n",
       "      <td>1997</td>\n",
       "      <td>22</td>\n",
       "      <td>DM</td>\n",
       "      <td>F</td>\n",
       "      <td>37.0</td>\n",
       "      <td>43.0</td>\n",
       "    </tr>\n",
       "    <tr>\n",
       "      <th>...</th>\n",
       "      <td>...</td>\n",
       "      <td>...</td>\n",
       "      <td>...</td>\n",
       "      <td>...</td>\n",
       "      <td>...</td>\n",
       "      <td>...</td>\n",
       "      <td>...</td>\n",
       "      <td>...</td>\n",
       "      <td>...</td>\n",
       "    </tr>\n",
       "    <tr>\n",
       "      <th>27407</th>\n",
       "      <td>27408</td>\n",
       "      <td>12</td>\n",
       "      <td>29</td>\n",
       "      <td>1997</td>\n",
       "      <td>8</td>\n",
       "      <td>DO</td>\n",
       "      <td>F</td>\n",
       "      <td>34.0</td>\n",
       "      <td>45.0</td>\n",
       "    </tr>\n",
       "    <tr>\n",
       "      <th>27408</th>\n",
       "      <td>27409</td>\n",
       "      <td>12</td>\n",
       "      <td>29</td>\n",
       "      <td>1997</td>\n",
       "      <td>9</td>\n",
       "      <td>DO</td>\n",
       "      <td>F</td>\n",
       "      <td>36.0</td>\n",
       "      <td>51.0</td>\n",
       "    </tr>\n",
       "    <tr>\n",
       "      <th>27409</th>\n",
       "      <td>27410</td>\n",
       "      <td>12</td>\n",
       "      <td>29</td>\n",
       "      <td>1997</td>\n",
       "      <td>6</td>\n",
       "      <td>PE</td>\n",
       "      <td>M</td>\n",
       "      <td>21.0</td>\n",
       "      <td>23.0</td>\n",
       "    </tr>\n",
       "    <tr>\n",
       "      <th>27410</th>\n",
       "      <td>27411</td>\n",
       "      <td>12</td>\n",
       "      <td>29</td>\n",
       "      <td>1997</td>\n",
       "      <td>9</td>\n",
       "      <td>PM</td>\n",
       "      <td>F</td>\n",
       "      <td>21.0</td>\n",
       "      <td>25.0</td>\n",
       "    </tr>\n",
       "    <tr>\n",
       "      <th>27411</th>\n",
       "      <td>27412</td>\n",
       "      <td>12</td>\n",
       "      <td>29</td>\n",
       "      <td>1997</td>\n",
       "      <td>13</td>\n",
       "      <td>OT</td>\n",
       "      <td>F</td>\n",
       "      <td>20.0</td>\n",
       "      <td>24.0</td>\n",
       "    </tr>\n",
       "  </tbody>\n",
       "</table>\n",
       "<p>2404 rows × 9 columns</p>\n",
       "</div>"
      ],
      "text/plain": [
       "       record_id  month  day  year  plot_id species_id sex  hindfoot_length  \\\n",
       "24920      24921      2    8  1997        2         PB   M             22.0   \n",
       "24921      24922      2    8  1997       21         PF   M             16.0   \n",
       "24922      24923      2    8  1997        1         OT   M             19.0   \n",
       "24923      24924      2    8  1997       20         OT   F             20.0   \n",
       "24924      24925      2    8  1997       22         DM   F             37.0   \n",
       "...          ...    ...  ...   ...      ...        ...  ..              ...   \n",
       "27407      27408     12   29  1997        8         DO   F             34.0   \n",
       "27408      27409     12   29  1997        9         DO   F             36.0   \n",
       "27409      27410     12   29  1997        6         PE   M             21.0   \n",
       "27410      27411     12   29  1997        9         PM   F             21.0   \n",
       "27411      27412     12   29  1997       13         OT   F             20.0   \n",
       "\n",
       "       weight  \n",
       "24920    32.0  \n",
       "24921     8.0  \n",
       "24922    22.0  \n",
       "24923    19.0  \n",
       "24924    43.0  \n",
       "...       ...  \n",
       "27407    45.0  \n",
       "27408    51.0  \n",
       "27409    23.0  \n",
       "27410    25.0  \n",
       "27411    24.0  \n",
       "\n",
       "[2404 rows x 9 columns]"
      ]
     },
     "execution_count": 62,
     "metadata": {},
     "output_type": "execute_result"
    }
   ],
   "source": [
    "#every five years\n",
    "n = 5\n",
    "first_year = surveys_df['year'].min()\n",
    "last_year = surveys_df['year'].max()\n",
    "\n",
    "for year in range(first_year, last_year, n):\n",
    "    print(year)\n",
    "    survey_year_dropna=surveys_df[surveys_df['year']==year].dropna()\n",
    "    \n",
    "survey_year_dropna"
   ]
  },
  {
   "cell_type": "code",
   "execution_count": 77,
   "metadata": {},
   "outputs": [
    {
     "name": "stdout",
     "output_type": "stream",
     "text": [
      "data/yearly_files/speciesNL.csv\n",
      "data/yearly_files/speciesDM.csv\n",
      "data/yearly_files/speciesPF.csv\n",
      "data/yearly_files/speciesPE.csv\n",
      "data/yearly_files/speciesDS.csv\n",
      "data/yearly_files/speciesPP.csv\n",
      "data/yearly_files/speciesSH.csv\n",
      "data/yearly_files/speciesOT.csv\n",
      "data/yearly_files/speciesDO.csv\n",
      "data/yearly_files/speciesOX.csv\n",
      "data/yearly_files/speciesSS.csv\n",
      "data/yearly_files/speciesOL.csv\n",
      "data/yearly_files/speciesRM.csv\n",
      "data/yearly_files/speciesnan.csv\n",
      "data/yearly_files/speciesSA.csv\n",
      "data/yearly_files/speciesPM.csv\n",
      "data/yearly_files/speciesAH.csv\n",
      "data/yearly_files/speciesDX.csv\n",
      "data/yearly_files/speciesAB.csv\n",
      "data/yearly_files/speciesCB.csv\n",
      "data/yearly_files/speciesCM.csv\n",
      "data/yearly_files/speciesCQ.csv\n",
      "data/yearly_files/speciesRF.csv\n",
      "data/yearly_files/speciesPC.csv\n",
      "data/yearly_files/speciesPG.csv\n",
      "data/yearly_files/speciesPH.csv\n",
      "data/yearly_files/speciesPU.csv\n",
      "data/yearly_files/speciesCV.csv\n",
      "data/yearly_files/speciesUR.csv\n",
      "data/yearly_files/speciesUP.csv\n",
      "data/yearly_files/speciesZL.csv\n",
      "data/yearly_files/speciesUL.csv\n",
      "data/yearly_files/speciesCS.csv\n",
      "data/yearly_files/speciesSC.csv\n",
      "data/yearly_files/speciesBA.csv\n",
      "data/yearly_files/speciesSF.csv\n",
      "data/yearly_files/speciesRO.csv\n",
      "data/yearly_files/speciesAS.csv\n",
      "data/yearly_files/speciesSO.csv\n",
      "data/yearly_files/speciesPI.csv\n",
      "data/yearly_files/speciesST.csv\n",
      "data/yearly_files/speciesCU.csv\n",
      "data/yearly_files/speciesSU.csv\n",
      "data/yearly_files/speciesRX.csv\n",
      "data/yearly_files/speciesPB.csv\n",
      "data/yearly_files/speciesPL.csv\n",
      "data/yearly_files/speciesPX.csv\n",
      "data/yearly_files/speciesCT.csv\n",
      "data/yearly_files/speciesUS.csv\n"
     ]
    }
   ],
   "source": [
    "species = surveys_df['species_id'].unique()\n",
    "\n",
    "\n",
    "for specie in species:\n",
    "    survey_specie = surveys_df[surveys_df.species_id==specie]\n",
    "    file = 'data/yearly_files/species'+str(specie)+'.csv'\n",
    "    print(file)\n",
    "    survey_specie.to_csv(file)"
   ]
  },
  {
   "cell_type": "code",
   "execution_count": 93,
   "metadata": {},
   "outputs": [],
   "source": [
    "# Building reusable and modular code with function\n",
    "\n",
    "def test_function(input1, input2):\n",
    "    print('inputs are: ', input1,input2, '(done inside the function)')\n",
    "    \n",
    "    return input1*input2"
   ]
  },
  {
   "cell_type": "code",
   "execution_count": 94,
   "metadata": {},
   "outputs": [
    {
     "name": "stdout",
     "output_type": "stream",
     "text": [
      "inputs are:  6 5 (done inside the function)\n"
     ]
    }
   ],
   "source": [
    "multiply = test_function(6,5)\n"
   ]
  },
  {
   "cell_type": "code",
   "execution_count": 96,
   "metadata": {},
   "outputs": [
    {
     "name": "stdout",
     "output_type": "stream",
     "text": [
      "Their product is: 30\n"
     ]
    }
   ],
   "source": [
    "print('Their product is:', multiply)"
   ]
  },
  {
   "cell_type": "code",
   "execution_count": 97,
   "metadata": {},
   "outputs": [],
   "source": [
    "# Challenge - Functions\n",
    "\n",
    "def one_year_csv_writer(this_year, all_data):\n",
    "    \"\"\"\n",
    "    Writes a csv file for data from a given year.\n",
    "\n",
    "    Keyword arguments:\n",
    "    this_year -- year for which data is extracted\n",
    "    all_data -- DataFrame with multi-year data\n",
    "    \"\"\"\n",
    "\n",
    "    # Select data for the year\n",
    "    surveys_year = all_data[all_data.year == this_year]\n",
    "\n",
    "    # Write the new DataFrame to a csv file\n",
    "    filename = 'data/yearly_files/function_surveys' + str(this_year) + '.csv'\n",
    "    surveys_year.to_csv(filename)"
   ]
  },
  {
   "cell_type": "code",
   "execution_count": 98,
   "metadata": {},
   "outputs": [],
   "source": [
    "one_year_csv_writer?"
   ]
  },
  {
   "cell_type": "code",
   "execution_count": 99,
   "metadata": {},
   "outputs": [],
   "source": [
    "one_year_csv_writer(2002, surveys_df)"
   ]
  },
  {
   "cell_type": "code",
   "execution_count": 101,
   "metadata": {},
   "outputs": [],
   "source": [
    "# looping in all years\n",
    "\n",
    "def yearly_data_csv_writer(start_year, end_year, all_data):\n",
    "    \"\"\"\n",
    "    Writes separate CSV files for each year of data.\n",
    "\n",
    "    Keyword arguments:\n",
    "    start_year -- the first year of data we want\n",
    "    end_year -- the last year of data we want\n",
    "    all_data -- DataFrame with multi-year data\n",
    "    \"\"\"\n",
    "    \n",
    "    for year in range(start_year, end_year+1):\n",
    "        one_year_csv_writer(year, all_data)"
   ]
  },
  {
   "cell_type": "code",
   "execution_count": 102,
   "metadata": {},
   "outputs": [],
   "source": [
    "surveys_df=pd.read_csv('data/surveys.csv')\n",
    "start_year = surveys_df['year'].min()\n",
    "end_year = surveys_df['year'].max()\n",
    "yearly_data_csv_writer(start_year,end_year,surveys_df)"
   ]
  },
  {
   "cell_type": "code",
   "execution_count": 111,
   "metadata": {},
   "outputs": [],
   "source": [
    "# Challenge- More functions\n",
    "\n",
    "def one_year_csv_writer(this_year, all_data, folder_to_save, root_name):\n",
    "    \"\"\"\n",
    "    Writes a csv file for data from a given year.\n",
    "\n",
    "    Parameters\n",
    "    ---------\n",
    "    this_year : int\n",
    "        year for which data is extracted\n",
    "    all_data: pd.DataFrame\n",
    "        DataFrame with multi-year data\n",
    "    folder_to_save : str\n",
    "        folder to save the data files\n",
    "    root_name: str\n",
    "        root of the filenames to save the data\n",
    "    \"\"\"\n",
    "    filename = os.path.join(folder_to_save,''.join([root_name, str(this_year), '.csv']))\n",
    "    print(filename)\n",
    "    return filename"
   ]
  },
  {
   "cell_type": "code",
   "execution_count": 112,
   "metadata": {},
   "outputs": [
    {
     "name": "stdout",
     "output_type": "stream",
     "text": [
      "data/new/root_name1977.csv\n"
     ]
    },
    {
     "data": {
      "text/plain": [
       "'data/new/root_name1977.csv'"
      ]
     },
     "execution_count": 112,
     "metadata": {},
     "output_type": "execute_result"
    }
   ],
   "source": [
    "start_year = surveys_df['year'].min()\n",
    "one_year_csv_writer(start_year, surveys_df, 'data/new/', 'root_name')\n"
   ]
  },
  {
   "cell_type": "code",
   "execution_count": 113,
   "metadata": {},
   "outputs": [
    {
     "name": "stdout",
     "output_type": "stream",
     "text": [
      "Both optional arguments:\t 1988 1993\n",
      "Default values:\t\t\t 1977 2002\n"
     ]
    }
   ],
   "source": [
    "# add default value\n",
    "\n",
    "def yearly_data_arg_test(all_data, start_year=1977, end_year=2002):\n",
    "    \"\"\"\n",
    "    Modified from yearly_data_csv_writer to test default argument values!\n",
    "\n",
    "    Keyword arguments:\n",
    "    start_year -- the first year of data we want (default 1977)\n",
    "    end_year -- the last year of data we want (default 2002)\n",
    "    all_data -- DataFrame with multi-year data\n",
    "    \"\"\"\n",
    "\n",
    "    return start_year, end_year\n",
    "\n",
    "\n",
    "start, end = yearly_data_arg_test(surveys_df, 1988, 1993)\n",
    "print('Both optional arguments:\\t', start, end)\n",
    "\n",
    "start, end = yearly_data_arg_test(surveys_df)\n",
    "print('Default values:\\t\\t\\t', start, end)"
   ]
  },
  {
   "cell_type": "code",
   "execution_count": 114,
   "metadata": {},
   "outputs": [
    {
     "name": "stdout",
     "output_type": "stream",
     "text": [
      "Both optional arguments:\t 1988 1993\n",
      "Default values:\t\t\t 1977 2002\n"
     ]
    }
   ],
   "source": [
    "def yearly_data_arg_test(all_data, start_year=None, end_year=None):\n",
    "    \"\"\"\n",
    "    Modified from yearly_data_csv_writer to test default argument values!\n",
    "\n",
    "    Keyword arguments:\n",
    "    all_data -- DataFrame with multi-year data\n",
    "    start_year -- the first year of data we want, Check all_data! (default None)\n",
    "    end_year -- the last year of data we want; Check all_data! (default None)\n",
    "    \"\"\"\n",
    "    if start_year is None:\n",
    "        start_year=min(all_data.year)\n",
    "    if end_year is None:\n",
    "        end_year=max(all_data.year)\n",
    "        \n",
    "    return start_year,end_year\n",
    "\n",
    "start, end = yearly_data_arg_test(surveys_df, 1988, 1993)\n",
    "print('Both optional arguments:\\t', start, end)\n",
    "\n",
    "start, end = yearly_data_arg_test(surveys_df)\n",
    "print('Default values:\\t\\t\\t', start, end)"
   ]
  },
  {
   "cell_type": "code",
   "execution_count": 115,
   "metadata": {},
   "outputs": [
    {
     "data": {
      "text/plain": [
       "NoneType"
      ]
     },
     "execution_count": 115,
     "metadata": {},
     "output_type": "execute_result"
    }
   ],
   "source": [
    "# Challenge - Variables\n",
    "\n",
    "a = None\n",
    "type(a)"
   ]
  },
  {
   "cell_type": "code",
   "execution_count": 117,
   "metadata": {},
   "outputs": [
    {
     "data": {
      "text/plain": [
       "(1977, 2001)"
      ]
     },
     "execution_count": 117,
     "metadata": {},
     "output_type": "execute_result"
    }
   ],
   "source": [
    "yearly_data_arg_test(surveys_df, end_year=2001)"
   ]
  },
  {
   "cell_type": "code",
   "execution_count": 118,
   "metadata": {},
   "outputs": [
    {
     "name": "stdout",
     "output_type": "stream",
     "text": [
      "a is a positive number\n"
     ]
    }
   ],
   "source": [
    "# If Statements\n",
    "\n",
    "a = 5\n",
    "\n",
    "if a<0:  # Meets first condition?\n",
    "\n",
    "    # if a IS less than zero\n",
    "    print('a is a negative number')\n",
    "\n",
    "elif a>0:  # Did not meet first condition. meets second condition?\n",
    "\n",
    "    # if a ISN'T less than zero and IS more than zero\n",
    "    print('a is a positive number')\n",
    "\n",
    "else:  # Met neither condition\n",
    "\n",
    "    # if a ISN'T less than zero and ISN'T more than zero\n",
    "    print('a must be zero!')"
   ]
  },
  {
   "cell_type": "code",
   "execution_count": 120,
   "metadata": {},
   "outputs": [
    {
     "name": "stdout",
     "output_type": "stream",
     "text": [
      "Default values:\t\t\t 1977 2002\n",
      "No keywords:\t\t\t 1988 1993\n",
      "in order:\t\t\t 1988 1993\n",
      "Both keywords, flipped:\t\t 1988 1993\n",
      "One keyword, default end:\t 1988 2002\n",
      "One keyword, default start:\t 1977 1993\n"
     ]
    }
   ],
   "source": [
    "start, end = yearly_data_arg_test(surveys_df)\n",
    "print('Default values:\\t\\t\\t', start, end)\n",
    "\n",
    "start, end = yearly_data_arg_test(surveys_df, 1988, 1993)\n",
    "print('No keywords:\\t\\t\\t', start, end)\n",
    "\n",
    "start, end = yearly_data_arg_test(surveys_df, start_year=1988, end_year=1993)\n",
    "print('in order:\\t\\t\\t', start, end)\n",
    "\n",
    "start, end = yearly_data_arg_test(surveys_df, end_year=1993, start_year=1988)\n",
    "print('Both keywords, flipped:\\t\\t', start, end)\n",
    "\n",
    "start, end = yearly_data_arg_test(surveys_df, start_year=1988)\n",
    "print('One keyword, default end:\\t', start, end)\n",
    "\n",
    "start, end = yearly_data_arg_test(surveys_df, end_year=1993)\n",
    "print('One keyword, default start:\\t', start, end)"
   ]
  },
  {
   "cell_type": "code",
   "execution_count": 121,
   "metadata": {},
   "outputs": [],
   "source": [
    "# Challenge - Modifying functions\n",
    "\n",
    "def one_year_csv_writer(this_year, all_data, folder_to_save='./', root_name='survey'):\n",
    "    \"\"\"\n",
    "    Writes a csv file for data from a given year.\n",
    "\n",
    "    Parameters\n",
    "    ---------\n",
    "    this_year : int\n",
    "        year for which data is extracted\n",
    "    all_data: pd.DataFrame\n",
    "        DataFrame with multi-year data\n",
    "    folder_to_save : str\n",
    "        folder to save the data files\n",
    "    root_name: str\n",
    "        root of the filenames to save the data\n",
    "    \"\"\"\n",
    "\n",
    "    # Select data for the year\n",
    "    surveys_year = all_data[all_data.year == this_year]\n",
    "\n",
    "    # Write the new DataFrame to a csv file\n",
    "    filename = os.path.join(folder_to_save, ''.join([root_name, str(this_year), '.csv']))\n",
    "    surveys_year.to_csv(filename)"
   ]
  },
  {
   "cell_type": "code",
   "execution_count": 124,
   "metadata": {},
   "outputs": [],
   "source": [
    "def one_year_csv_writer(this_year, all_data, folder_to_save='./', root_name='survey'):\n",
    "    \"\"\"\n",
    "    Writes a csv file for data from a given year.\n",
    "\n",
    "    Parameters\n",
    "    ---------\n",
    "    this_year : int\n",
    "        year for which data is extracted\n",
    "    all_data: pd.DataFrame\n",
    "        DataFrame with multi-year data\n",
    "    folder_to_save : str\n",
    "        folder to save the data files\n",
    "    root_name: str\n",
    "        root of the filenames to save the data\n",
    "    \"\"\"\n",
    "\n",
    "    # Select data for the year\n",
    "    surveys_year = all_data[all_data.year == this_year]\n",
    "# Write the new DataFrame to a csv file\n",
    "    if len(surveys_year) > 0:\n",
    "        filename = os.path.join(folder_to_save, ''.join([root_name, str(this_year), '.csv']))\n",
    "        surveys_year.to_csv(filename)\n",
    "    else:\n",
    "        print(\"No data for year \" + str(this_year))"
   ]
  },
  {
   "cell_type": "code",
   "execution_count": 127,
   "metadata": {},
   "outputs": [
    {
     "name": "stdout",
     "output_type": "stream",
     "text": [
      "['Data Workflows and Automation.ipynb', '.DS_Store', 'Combining DataFrames with Pandas.ipynb', 'portal-teachingdb-master.zip', '.ipynb_checkpoints', 'data']\n"
     ]
    }
   ],
   "source": [
    "print(os.listdir('.'))"
   ]
  },
  {
   "cell_type": "code",
   "execution_count": 128,
   "metadata": {},
   "outputs": [
    {
     "name": "stdout",
     "output_type": "stream",
     "text": [
      "Processed directory created\n"
     ]
    }
   ],
   "source": [
    "if 'dir_name_here' in os.listdir('.'):\n",
    "   print('Processed directory exists')\n",
    "else:\n",
    "   os.mkdir('dir_name_here')\n",
    "   print('Processed directory created')"
   ]
  },
  {
   "cell_type": "code",
   "execution_count": null,
   "metadata": {},
   "outputs": [],
   "source": []
  }
 ],
 "metadata": {
  "kernelspec": {
   "display_name": "Python 3",
   "language": "python",
   "name": "python3"
  },
  "language_info": {
   "codemirror_mode": {
    "name": "ipython",
    "version": 3
   },
   "file_extension": ".py",
   "mimetype": "text/x-python",
   "name": "python",
   "nbconvert_exporter": "python",
   "pygments_lexer": "ipython3",
   "version": "3.7.3"
  }
 },
 "nbformat": 4,
 "nbformat_minor": 4
}
